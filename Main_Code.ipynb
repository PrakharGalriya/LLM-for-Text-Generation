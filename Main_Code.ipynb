{
  "nbformat": 4,
  "nbformat_minor": 0,
  "metadata": {
    "colab": {
      "provenance": [],
      "gpuType": "T4"
    },
    "kernelspec": {
      "name": "python3",
      "display_name": "Python 3"
    },
    "language_info": {
      "name": "python"
    },
    "accelerator": "GPU"
  },
  "cells": [
    {
      "cell_type": "code",
      "source": [
        "!pip install tiktoken"
      ],
      "metadata": {
        "colab": {
          "base_uri": "https://localhost:8080/"
        },
        "id": "4X8dTqKSTSAE",
        "outputId": "7df57058-21e7-4585-99c7-3b5dda3d1a39"
      },
      "execution_count": null,
      "outputs": [
        {
          "output_type": "stream",
          "name": "stdout",
          "text": [
            "Collecting tiktoken\n",
            "  Downloading tiktoken-0.9.0-cp311-cp311-manylinux_2_17_x86_64.manylinux2014_x86_64.whl.metadata (6.7 kB)\n",
            "Requirement already satisfied: regex>=2022.1.18 in /usr/local/lib/python3.11/dist-packages (from tiktoken) (2024.11.6)\n",
            "Requirement already satisfied: requests>=2.26.0 in /usr/local/lib/python3.11/dist-packages (from tiktoken) (2.32.3)\n",
            "Requirement already satisfied: charset-normalizer<4,>=2 in /usr/local/lib/python3.11/dist-packages (from requests>=2.26.0->tiktoken) (3.4.1)\n",
            "Requirement already satisfied: idna<4,>=2.5 in /usr/local/lib/python3.11/dist-packages (from requests>=2.26.0->tiktoken) (3.10)\n",
            "Requirement already satisfied: urllib3<3,>=1.21.1 in /usr/local/lib/python3.11/dist-packages (from requests>=2.26.0->tiktoken) (2.3.0)\n",
            "Requirement already satisfied: certifi>=2017.4.17 in /usr/local/lib/python3.11/dist-packages (from requests>=2.26.0->tiktoken) (2025.1.31)\n",
            "Downloading tiktoken-0.9.0-cp311-cp311-manylinux_2_17_x86_64.manylinux2014_x86_64.whl (1.2 MB)\n",
            "\u001b[?25l   \u001b[90m━━━━━━━━━━━━━━━━━━━━━━━━━━━━━━━━━━━━━━━━\u001b[0m \u001b[32m0.0/1.2 MB\u001b[0m \u001b[31m?\u001b[0m eta \u001b[36m-:--:--\u001b[0m\r\u001b[2K   \u001b[91m━━━━━━━━━━━━━━━━━━━━━━━\u001b[0m\u001b[91m╸\u001b[0m\u001b[90m━━━━━━━━━━━━━━━━\u001b[0m \u001b[32m0.7/1.2 MB\u001b[0m \u001b[31m22.5 MB/s\u001b[0m eta \u001b[36m0:00:01\u001b[0m\r\u001b[2K   \u001b[90m━━━━━━━━━━━━━━━━━━━━━━━━━━━━━━━━━━━━━━━━\u001b[0m \u001b[32m1.2/1.2 MB\u001b[0m \u001b[31m22.5 MB/s\u001b[0m eta \u001b[36m0:00:00\u001b[0m\n",
            "\u001b[?25hInstalling collected packages: tiktoken\n",
            "Successfully installed tiktoken-0.9.0\n"
          ]
        }
      ]
    },
    {
      "cell_type": "code",
      "source": [
        "#importing libraries.\n",
        "import os\n",
        "from importlib.metadata import version\n",
        "import torch\n",
        "import torch.nn as nn\n",
        "print(\"torch version:\", version(\"torch\"))\n",
        "import tiktoken\n",
        "print(\"tiktoken version:\", version(\"tiktoken\"))"
      ],
      "metadata": {
        "id": "N9hFoPVFqnNj",
        "colab": {
          "base_uri": "https://localhost:8080/"
        },
        "outputId": "2749e54a-697e-4125-e1b2-7c24ef325c2b"
      },
      "execution_count": null,
      "outputs": [
        {
          "output_type": "stream",
          "name": "stdout",
          "text": [
            "torch version: 2.6.0+cu124\n",
            "tiktoken version: 0.9.0\n"
          ]
        }
      ]
    },
    {
      "cell_type": "code",
      "source": [
        "#this dictionary defines the architecture and training parameters for a 124 million parameter GPT model.\n",
        "#total number of trainable parameters are - 124 million.\n",
        "\n",
        "GPT_CONFIG_124M = {\n",
        "    #the number of unique tokens that the model can recognize and generate.\n",
        "    \"vocab_size\": 50257,\n",
        "\n",
        "    #the maximum number of tokens the model can process in a single forward pass.\n",
        "    \"context_length\": 1024,\n",
        "\n",
        "    #the size of the vector space used to represent each token.\n",
        "    \"emb_dim\": 768,\n",
        "\n",
        "    #the number of attention heads in each transformer layer.\n",
        "    \"n_heads\": 12,\n",
        "\n",
        "    #the number of transformer layers stacked on top of each other.\n",
        "    \"n_layers\": 12,\n",
        "\n",
        "    #the probability of randomly disabling neurons during training.\n",
        "    \"drop_rate\": 0.1,\n",
        "\n",
        "    #indicates whether bias terms are included in the query, key, and value projections of the attention mechanism.\n",
        "    \"qkv_bias\": False\n",
        "}"
      ],
      "metadata": {
        "id": "jmabrOIY1FRE"
      },
      "execution_count": null,
      "outputs": []
    },
    {
      "cell_type": "code",
      "source": [
        "import urllib.request\n",
        "\n",
        "file_path_1 = \"text_data_1.txt\"\n",
        "url = \"https://www.gutenberg.org/cache/epub/1342/pg1342.txt\"\n",
        "\n",
        "if not os.path.exists(file_path_1):\n",
        "    with urllib.request.urlopen(url) as response:\n",
        "        text_data_1 = response.read().decode('utf-8')\n",
        "    with open(file_path_1, \"w\", encoding=\"utf-8\") as file:\n",
        "        file.write(text_data_1)\n",
        "else:\n",
        "    with open(file_path_1, \"r\", encoding=\"utf-8\") as file:\n",
        "        text_data_1 = file.read()\n"
      ],
      "metadata": {
        "id": "a0gDWLDUd_xx"
      },
      "execution_count": null,
      "outputs": []
    },
    {
      "cell_type": "code",
      "source": [
        "file_path_2 = \"text_data_2.txt\"\n",
        "url = \"https://www.gutenberg.org/cache/epub/1400/pg1400.txt\"\n",
        "\n",
        "if not os.path.exists(file_path_2):\n",
        "    with urllib.request.urlopen(url) as response:\n",
        "        text_data_2 = response.read().decode('utf-8')\n",
        "    with open(file_path_2, \"w\", encoding=\"utf-8\") as file:\n",
        "        file.write(text_data_2)\n",
        "else:\n",
        "    with open(file_path_2, \"r\", encoding=\"utf-8\") as file:\n",
        "        text_data_2 = file.read()"
      ],
      "metadata": {
        "id": "rGWHEQMVeDFd"
      },
      "execution_count": null,
      "outputs": []
    },
    {
      "cell_type": "code",
      "source": [
        "dataset = text_data_1 + text_data_2\n",
        "assert(len(dataset) == len(text_data_1) + len(text_data_2))"
      ],
      "metadata": {
        "id": "zFWcFLbVeF6f"
      },
      "execution_count": null,
      "outputs": []
    },
    {
      "cell_type": "code",
      "source": [
        "with open(\"final_dataset.txt\", \"w\", encoding = \"utf-8\") as file_1:\n",
        "    file_1.write(dataset)"
      ],
      "metadata": {
        "id": "aostcDq5ecxw"
      },
      "execution_count": null,
      "outputs": []
    },
    {
      "cell_type": "code",
      "source": [
        "with open(\"final_dataset.txt\", \"r\", encoding = \"utf-8\") as raw_text:\n",
        "  raw_text = raw_text.read()"
      ],
      "metadata": {
        "id": "HUh3logseIYS"
      },
      "execution_count": null,
      "outputs": []
    },
    {
      "cell_type": "code",
      "execution_count": null,
      "metadata": {
        "colab": {
          "base_uri": "https://localhost:8080/"
        },
        "id": "n6fXx4_URyQl",
        "outputId": "99b5e7b4-4756-410a-e156-955bc9b02cde"
      },
      "outputs": [
        {
          "output_type": "stream",
          "name": "stdout",
          "text": [
            "torch version: 2.6.0+cu124\n",
            "tiktoken version: 0.9.0\n"
          ]
        }
      ],
      "source": [
        "from importlib.metadata import version\n",
        "import tiktoken\n",
        "tokenizer = tiktoken.get_encoding(\"gpt2\")\n",
        "\n",
        "print(\"torch version:\", version(\"torch\"))\n",
        "print(\"tiktoken version:\", version(\"tiktoken\"))"
      ]
    },
    {
      "cell_type": "code",
      "source": [
        "total_characters = len(raw_text)\n",
        "total_tokens = len(tokenizer.encode(raw_text))\n",
        "print(\"Characters:\", total_characters)\n",
        "print(\"Tokens:\", total_tokens)"
      ],
      "metadata": {
        "colab": {
          "base_uri": "https://localhost:8080/"
        },
        "id": "-ylT2F2S0qr1",
        "outputId": "56d0c2ac-f890-4a07-dbce-1d06bbbb7a57"
      },
      "execution_count": null,
      "outputs": [
        {
          "output_type": "stream",
          "name": "stdout",
          "text": [
            "Characters: 1762018\n",
            "Tokens: 480074\n"
          ]
        }
      ]
    },
    {
      "cell_type": "code",
      "source": [
        "train_ratio = 0.90\n",
        "split_idx = int(train_ratio * len(raw_text))\n",
        "train_data = raw_text[:split_idx]\n",
        "val_data = raw_text[split_idx:]"
      ],
      "metadata": {
        "id": "j402mkJg05D3"
      },
      "execution_count": null,
      "outputs": []
    },
    {
      "cell_type": "code",
      "source": [
        "class LayerNorm(nn.Module):\n",
        "    def __init__(self, emb_dim):\n",
        "        super().__init__()\n",
        "        self.eps = 1e-5\n",
        "        self.scale = nn.Parameter(torch.ones(emb_dim))\n",
        "        self.shift = nn.Parameter(torch.zeros(emb_dim))\n",
        "\n",
        "    def forward(self, x):\n",
        "        mean = x.mean(dim=-1, keepdim=True)\n",
        "        var = x.var(dim=-1, keepdim=True, unbiased=False)\n",
        "        norm_x = (x - mean) / torch.sqrt(var + self.eps)\n",
        "        return self.scale * norm_x + self.shift"
      ],
      "metadata": {
        "id": "RZULpPOg0Vw4"
      },
      "execution_count": null,
      "outputs": []
    },
    {
      "cell_type": "code",
      "source": [
        "class GELU(nn.Module):\n",
        "    def __init__(self):\n",
        "        super().__init__()\n",
        "\n",
        "    def forward(self, x):\n",
        "        return 0.5 * x * (1 + torch.tanh(\n",
        "            torch.sqrt(torch.tensor(2.0 / torch.pi)) *\n",
        "            (x + 0.044715 * torch.pow(x, 3))\n",
        "        ))"
      ],
      "metadata": {
        "id": "_FuSyqtuaqlo"
      },
      "execution_count": null,
      "outputs": []
    },
    {
      "cell_type": "code",
      "source": [
        "class FeedForward(nn.Module):\n",
        "    def __init__(self, cfg):\n",
        "        super().__init__()\n",
        "        self.layers = nn.Sequential(\n",
        "            nn.Linear(cfg[\"emb_dim\"], 4 * cfg[\"emb_dim\"]),\n",
        "            GELU(),\n",
        "            nn.Linear(4 * cfg[\"emb_dim\"], cfg[\"emb_dim\"]),\n",
        "        )\n",
        "\n",
        "    def forward(self, x):\n",
        "        return self.layers(x)"
      ],
      "metadata": {
        "id": "fEFgnP1Ja0ZF"
      },
      "execution_count": null,
      "outputs": []
    },
    {
      "cell_type": "code",
      "source": [
        "class MultiHeadAttention(nn.Module):\n",
        "    def __init__(self, d_in, d_out, context_length, dropout, num_heads, qkv_bias=False):\n",
        "        super().__init__()\n",
        "        assert(d_out % num_heads == 0)\n",
        "        self.d_out = d_out\n",
        "        self.num_heads = num_heads\n",
        "\n",
        "        self.head_dim = d_out // num_heads  # Reduce the projection dim to match desired output dim\n",
        "\n",
        "        self.W_query = nn.Linear(d_in, d_out, bias=qkv_bias)\n",
        "        self.W_key = nn.Linear(d_in, d_out, bias=qkv_bias)\n",
        "        self.W_value = nn.Linear(d_in, d_out, bias=qkv_bias)\n",
        "        self.out_proj = nn.Linear(d_out, d_out)  # Linear layer to combine head outputs\n",
        "        self.dropout = nn.Dropout(dropout)\n",
        "        self.register_buffer('mask', torch.triu(torch.ones(context_length, context_length), diagonal=1))\n",
        "\n",
        "    def forward(self, x):\n",
        "        b, num_tokens, d_in = x.shape\n",
        "\n",
        "        keys = self.W_key(x)  # Shape: (b, num_tokens, d_out)\n",
        "        queries = self.W_query(x)\n",
        "        values = self.W_value(x)\n",
        "\n",
        "        # We implicitly split the matrix by adding a `num_heads` dimension\n",
        "        # Unroll last dim: (b, num_tokens, d_out) -> (b, num_tokens, num_heads, head_dim)\n",
        "        keys = keys.view(b, num_tokens, self.num_heads, self.head_dim)\n",
        "        values = values.view(b, num_tokens, self.num_heads, self.head_dim)\n",
        "        queries = queries.view(b, num_tokens, self.num_heads, self.head_dim)\n",
        "\n",
        "        # Transpose: (b, num_tokens, num_heads, head_dim) -> (b, num_heads, num_tokens, head_dim)\n",
        "        keys = keys.transpose(1, 2)\n",
        "        queries = queries.transpose(1, 2)\n",
        "        values = values.transpose(1, 2)\n",
        "\n",
        "        # Compute scaled dot-product attention (aka self-attention) with a causal mask\n",
        "        attn_scores = queries @ keys.transpose(2, 3)  # Dot product for each head\n",
        "\n",
        "        # Original mask truncated to the number of tokens and converted to boolean\n",
        "        mask_bool = self.mask.bool()[:num_tokens, :num_tokens]\n",
        "\n",
        "        # Use the mask to fill attention scores\n",
        "        attn_scores.masked_fill_(mask_bool, -torch.inf)\n",
        "\n",
        "        attn_weights = torch.softmax(attn_scores / keys.shape[-1]**0.5, dim=-1)\n",
        "        attn_weights = self.dropout(attn_weights)\n",
        "\n",
        "        # Shape: (b, num_tokens, num_heads, head_dim)\n",
        "        context_vec = (attn_weights @ values).transpose(1, 2)\n",
        "\n",
        "        # Combine heads, where self.d_out = self.num_heads * self.head_dim\n",
        "        context_vec = context_vec.contiguous().view(\n",
        "            b, num_tokens, self.d_out\n",
        "        )\n",
        "        context_vec = self.out_proj(context_vec)  # optional projection\n",
        "\n",
        "        return context_vec"
      ],
      "metadata": {
        "id": "S3zJ7c3RpPMj"
      },
      "execution_count": null,
      "outputs": []
    },
    {
      "cell_type": "code",
      "source": [
        "class TransformerBlock(nn.Module):\n",
        "    def __init__(self, cfg):\n",
        "        super().__init__()\n",
        "        self.att = MultiHeadAttention(\n",
        "            d_in=cfg[\"emb_dim\"],\n",
        "            d_out=cfg[\"emb_dim\"],\n",
        "            context_length=cfg[\"context_length\"],\n",
        "            num_heads=cfg[\"n_heads\"],\n",
        "            dropout=cfg[\"drop_rate\"],\n",
        "            qkv_bias=cfg[\"qkv_bias\"])\n",
        "        self.ff = FeedForward(cfg)\n",
        "        self.norm1 = LayerNorm(cfg[\"emb_dim\"])\n",
        "        self.norm2 = LayerNorm(cfg[\"emb_dim\"])\n",
        "        self.drop_resid = nn.Dropout(cfg[\"drop_rate\"])\n",
        "\n",
        "    def forward(self, x):\n",
        "        # Shortcut connection for attention block\n",
        "        shortcut = x\n",
        "        x = self.norm1(x)\n",
        "        x = self.att(x)   # Shape [batch_size, num_tokens, emb_size]\n",
        "        x = self.drop_resid(x)\n",
        "        x = x + shortcut  # Add the original input back\n",
        "\n",
        "        # Shortcut connection for feed-forward block\n",
        "        shortcut = x\n",
        "        x = self.norm2(x)\n",
        "        x = self.ff(x)\n",
        "        x = self.drop_resid(x)\n",
        "        x = x + shortcut  # Add the original input back\n",
        "\n",
        "        return x"
      ],
      "metadata": {
        "id": "Ao7jCC0na2jx"
      },
      "execution_count": null,
      "outputs": []
    },
    {
      "cell_type": "code",
      "source": [
        "class GPTModel(nn.Module):\n",
        "    def __init__(self, cfg):\n",
        "        super().__init__()\n",
        "        self.tok_emb = nn.Embedding(cfg[\"vocab_size\"], cfg[\"emb_dim\"])\n",
        "        self.pos_emb = nn.Embedding(cfg[\"context_length\"], cfg[\"emb_dim\"])\n",
        "        self.drop_emb = nn.Dropout(cfg[\"drop_rate\"])\n",
        "\n",
        "        self.trf_blocks = nn.Sequential(\n",
        "            *[TransformerBlock(cfg) for _ in range(cfg[\"n_layers\"])])\n",
        "\n",
        "        self.final_norm = LayerNorm(cfg[\"emb_dim\"])\n",
        "        self.out_head = nn.Linear(cfg[\"emb_dim\"], cfg[\"vocab_size\"], bias=False)\n",
        "\n",
        "    def forward(self, in_idx):\n",
        "        batch_size, seq_len = in_idx.shape\n",
        "        tok_embeds = self.tok_emb(in_idx)\n",
        "        pos_embeds = self.pos_emb(torch.arange(seq_len, device=in_idx.device))\n",
        "        x = tok_embeds + pos_embeds  # Shape [batch_size, num_tokens, emb_size]\n",
        "        x = self.drop_emb(x)\n",
        "        x = self.trf_blocks(x)\n",
        "        x = self.final_norm(x)\n",
        "        logits = self.out_head(x)\n",
        "        return logits"
      ],
      "metadata": {
        "id": "0cm_IxITa7HK"
      },
      "execution_count": null,
      "outputs": []
    },
    {
      "cell_type": "code",
      "source": [
        "def generate_text(model, idx, max_new_tokens, context_size, device):\n",
        "    idx = idx.to(device)\n",
        "    # idx is (B, T) array of indices in the current context\n",
        "    for _ in range(max_new_tokens):\n",
        "\n",
        "        # Crop current context if it exceeds the supported context size\n",
        "        # E.g., if LLM supports only 5 tokens, and the context size is 10\n",
        "        # then only the last 5 tokens are used as context\n",
        "        idx_cond = idx[:, -context_size:]\n",
        "\n",
        "        # Get the predictions\n",
        "        with torch.no_grad():\n",
        "            logits = model(idx_cond)\n",
        "\n",
        "        # Focus only on the last time step\n",
        "        # (batch, n_token, vocab_size) becomes (batch, vocab_size)\n",
        "        logits = logits[:, -1, :]\n",
        "\n",
        "        # Get the idx of the vocab entry with the highest logits value\n",
        "        idx_next = torch.argmax(logits, dim=-1, keepdim=True)  # (batch, 1)\n",
        "\n",
        "        # Append sampled index to the running sequence\n",
        "        idx = torch.cat((idx, idx_next), dim=1)  # (batch, n_tokens+1)\n",
        "\n",
        "    return idx"
      ],
      "metadata": {
        "id": "5unycCBca-qK"
      },
      "execution_count": null,
      "outputs": []
    },
    {
      "cell_type": "code",
      "source": [
        "#helper function that takes a text string and tokenizer, then returns a properly formatted tensor.\n",
        "def text_to_token_ids(text, tokenizer):\n",
        "\n",
        "    #encodes the text into token IDs, allows the special end-of-text token\n",
        "    encoded = tokenizer.encode(text, allowed_special = {'<|endoftext|>'})\n",
        "\n",
        "    #converts to a tensor and adds the batch dimension\n",
        "    encoded_tensor = torch.tensor(encoded).unsqueeze(0)\n",
        "\n",
        "    #returns the ready-to-use tensor\n",
        "    return encoded_tensor\n",
        "\n",
        "#function that converts generated token IDs back to human-readable text.\n",
        "def token_ids_to_text(token_ids, tokenizer):\n",
        "\n",
        "    #removes the batch dimension with 'squeeze(0)'\n",
        "    flat = token_ids.squeeze(0)\n",
        "\n",
        "    #decodes the token IDs to text and converts the tensor to a python list with tolist()\n",
        "    return tokenizer.decode(flat.tolist())\n"
      ],
      "metadata": {
        "id": "NRhpimkbbIgc"
      },
      "execution_count": null,
      "outputs": []
    },
    {
      "cell_type": "code",
      "source": [
        "#we create a class which inherits from pytorch's 'Dataset' class, which is part of the data loading infrastructure in pytorch.\n",
        "from torch.utils.data import Dataset, DataLoader\n",
        "class GPTDatasetV1(Dataset):\n",
        "\n",
        "     #txt: the raw text to train on.\n",
        "     #tokenizer: the tokenizer to convert text to token IDs.\n",
        "     #max_length: the maximum sequence length for each training example.\n",
        "     #stride: how much to shift the window when creating the next training example.\n",
        "     def __init__(self, txt, tokenizer, max_length, stride):\n",
        "\n",
        "         #these lists will store the input sequences and their corresponding target sequences.\n",
        "         self.input_ids = []\n",
        "         self.target_ids = []\n",
        "\n",
        "         #encodes the entire text into token IDs, allowing the special end-of-text token to be included.\n",
        "         token_ids = tokenizer.encode(txt, allowed_special = {\"<|endoftext|>\"})\n",
        "         assert len(token_ids) > max_length, \"Number of tokenized inputs must at least be equal to max_length+1\"\n",
        "\n",
        "         #this loop iterates through the token IDs, jumping stride positions each time. this creates overlapping chunks if stride < max_length, which is a common approach to efficiently use all the data.\n",
        "         for i in range(0, len(token_ids) - max_length, stride):\n",
        "\n",
        "             #input_chunk is a sequence of max_length tokens starting at position i.\n",
        "             input_chunk = token_ids[i:i + max_length]\n",
        "\n",
        "             #target_chunk is a sequence of the same length but shifted one position forward.\n",
        "             target_chunk = token_ids[i + 1: i + max_length + 1]\n",
        "\n",
        "             #each chunk is converted to a PyTorch tensor and stored in the appropriate list.\n",
        "             self.input_ids.append(torch.tensor(input_chunk))\n",
        "             self.target_ids.append(torch.tensor(target_chunk))\n",
        "\n",
        "     #returns the number of examples in the dataset.\n",
        "     def __len__(self):\n",
        "         return len(self.input_ids)\n",
        "\n",
        "     #returns a specific example from the dataset given its index.\n",
        "     def __getitem__(self, idx):\n",
        "         return self.input_ids[idx], self.target_ids[idx]"
      ],
      "metadata": {
        "id": "Y0ZmPGeIO_Qb"
      },
      "execution_count": null,
      "outputs": []
    },
    {
      "cell_type": "code",
      "source": [
        "def create_dataloader_v1(txt, batch_size=4, max_length=256,\n",
        "                         stride=128, shuffle=True, drop_last=True,\n",
        "                         num_workers=0):\n",
        "\n",
        "    tokenizer = tiktoken.get_encoding(\"gpt2\")\n",
        "\n",
        "    dataset = GPTDatasetV1(txt, tokenizer, max_length, stride)\n",
        "\n",
        "    dataloader = DataLoader(\n",
        "        dataset,\n",
        "        batch_size=batch_size,\n",
        "        shuffle=shuffle,\n",
        "        drop_last=drop_last,\n",
        "        num_workers=num_workers\n",
        " )\n",
        "\n",
        "    return dataloader"
      ],
      "metadata": {
        "id": "SNviWcohlmEC"
      },
      "execution_count": null,
      "outputs": []
    },
    {
      "cell_type": "code",
      "source": [
        "train_loader = create_dataloader_v1(\n",
        "     train_data,\n",
        "     batch_size=2,\n",
        "     max_length=GPT_CONFIG_124M[\"context_length\"],\n",
        "     stride=GPT_CONFIG_124M[\"context_length\"],\n",
        "     drop_last=True,\n",
        "     shuffle=True,\n",
        "     num_workers=0\n",
        ")\n",
        "\n",
        "\n",
        "val_loader = create_dataloader_v1(\n",
        "     val_data,\n",
        "     batch_size=2,\n",
        "     max_length=GPT_CONFIG_124M[\"context_length\"],\n",
        "     stride=GPT_CONFIG_124M[\"context_length\"],\n",
        "     drop_last=False,\n",
        "     shuffle=False,\n",
        "     num_workers=0\n",
        ")"
      ],
      "metadata": {
        "id": "r9SLRGYXq2VF"
      },
      "execution_count": null,
      "outputs": []
    },
    {
      "cell_type": "code",
      "source": [
        "def calc_loss_batch(input_batch, target_batch, model, device):\n",
        "     input_batch, target_batch = input_batch.to(device), target_batch.to(device)\n",
        "     logits = model(input_batch)\n",
        "     loss = torch.nn.functional.cross_entropy(\n",
        "         logits.flatten(0, 1), target_batch.flatten()\n",
        "     )\n",
        "     return loss"
      ],
      "metadata": {
        "id": "N6nkpVu5G_kn"
      },
      "execution_count": null,
      "outputs": []
    },
    {
      "cell_type": "code",
      "source": [
        "def calc_loss_loader(data_loader, model, device, num_batches=None):\n",
        "     total_loss = 0\n",
        "     if len(data_loader) == 0:\n",
        "         return float(\"nan\")\n",
        "     elif num_batches is None:\n",
        "         num_batches = len(data_loader)\n",
        "     else:\n",
        "         num_batches = min(num_batches, len(data_loader))\n",
        "     for i, (input_batch, target_batch) in enumerate(data_loader):\n",
        "         if i < num_batches:\n",
        "             loss = calc_loss_batch(\n",
        "                 input_batch, target_batch, model, device\n",
        "             )\n",
        "             total_loss += loss.item()\n",
        "         else:\n",
        "             break\n",
        "     return total_loss / num_batches"
      ],
      "metadata": {
        "id": "Sfj02mpgGvsm"
      },
      "execution_count": null,
      "outputs": []
    },
    {
      "cell_type": "code",
      "source": [
        "model = GPTModel(GPT_CONFIG_124M)\n",
        "device = torch.device(\"cuda\" if torch.cuda.is_available() else \"cpu\")\n",
        "model.to(device)\n",
        "with torch.no_grad():\n",
        "    train_loss = calc_loss_loader(train_loader, model, device)\n",
        "    val_loss = calc_loss_loader(val_loader, model, device)\n",
        "print(\"Training loss:\", train_loss)\n",
        "print(\"Validation loss:\", val_loss)"
      ],
      "metadata": {
        "colab": {
          "base_uri": "https://localhost:8080/"
        },
        "id": "fvhHy4YpIF2A",
        "outputId": "fcd60d71-3a39-49a7-a79c-4b756c056c85"
      },
      "execution_count": null,
      "outputs": [
        {
          "output_type": "stream",
          "name": "stdout",
          "text": [
            "Training loss: 10.997751081557501\n",
            "Validation loss: 10.990206552588422\n"
          ]
        }
      ]
    },
    {
      "cell_type": "code",
      "source": [
        "def train_model_simple(model, train_loader, val_loader, optimizer, device, num_epochs,\n",
        "                       eval_freq, eval_iter, start_context, tokenizer):\n",
        "    # Initialize lists to track losses and tokens seen\n",
        "    train_losses, val_losses, track_tokens_seen = [], [], []\n",
        "    tokens_seen, global_step = 0, -1\n",
        "\n",
        "    # Main training loop\n",
        "    for epoch in range(num_epochs):\n",
        "        model.train()  # Set model to training mode\n",
        "\n",
        "        for input_batch, target_batch in train_loader:\n",
        "            optimizer.zero_grad() # Reset loss gradients from previous batch iteration\n",
        "            loss = calc_loss_batch(input_batch, target_batch, model, device)\n",
        "            loss.backward() # Calculate loss gradients\n",
        "            optimizer.step() # Update model weights using loss gradients\n",
        "            tokens_seen += input_batch.numel()\n",
        "            global_step += 1\n",
        "\n",
        "            # Optional evaluation step\n",
        "            if global_step % eval_freq == 0:\n",
        "                train_loss, val_loss = evaluate_model(\n",
        "                    model, train_loader, val_loader, device, eval_iter)\n",
        "                train_losses.append(train_loss)\n",
        "                val_losses.append(val_loss)\n",
        "                track_tokens_seen.append(tokens_seen)\n",
        "                print(f\"Ep {epoch+1} (Step {global_step:06d}): \"\n",
        "                      f\"Train loss {train_loss:.3f}, Val loss {val_loss:.3f}\")\n",
        "\n",
        "        # Print a sample text after each epoch\n",
        "        generate_and_print_sample(\n",
        "            model, tokenizer, device, start_context\n",
        "        )\n",
        "\n",
        "    return train_losses, val_losses, track_tokens_seen\n",
        "\n",
        "\n",
        "def evaluate_model(model, train_loader, val_loader, device, eval_iter):\n",
        "    model.eval()\n",
        "    with torch.no_grad():\n",
        "        train_loss = calc_loss_loader(train_loader, model, device, num_batches=eval_iter)\n",
        "        val_loss = calc_loss_loader(val_loader, model, device, num_batches=eval_iter)\n",
        "    model.train()\n",
        "    return train_loss, val_loss\n",
        "\n",
        "\n",
        "def generate_and_print_sample(model, tokenizer, device, start_context):\n",
        "    model.eval()\n",
        "    context_size = model.pos_emb.weight.shape[0]\n",
        "    encoded = text_to_token_ids(start_context, tokenizer).to(device)\n",
        "    with torch.no_grad():\n",
        "        token_ids = generate_text(\n",
        "            model=model, idx=encoded,\n",
        "            max_new_tokens=50, context_size=context_size, device=device\n",
        "        )\n",
        "    decoded_text = token_ids_to_text(token_ids, tokenizer)\n",
        "    print(decoded_text.replace(\"\\n\", \" \"))  # Compact print format\n",
        "    model.train()"
      ],
      "metadata": {
        "id": "hRfhP3HHCubB"
      },
      "execution_count": null,
      "outputs": []
    },
    {
      "cell_type": "code",
      "source": [
        "model = GPTModel(GPT_CONFIG_124M)\n",
        "model.to(device)\n",
        "optimizer = torch.optim.AdamW(\n",
        "    model.parameters(),\n",
        "    lr=0.00005, weight_decay=0.02\n",
        ")\n",
        "num_epochs = 5\n",
        "\n",
        "train_losses, val_losses, tokens_seen = train_model_simple(\n",
        "    model, train_loader, val_loader, optimizer, device,\n",
        "    num_epochs=num_epochs, eval_freq=10, eval_iter=5,\n",
        "    start_context=\"Every effort moves you\", tokenizer=tokenizer\n",
        ")"
      ],
      "metadata": {
        "id": "EPtOo7XeQtgb",
        "colab": {
          "base_uri": "https://localhost:8080/"
        },
        "outputId": "2dfdba7a-8bc4-434d-8755-72ee868853b3"
      },
      "execution_count": null,
      "outputs": [
        {
          "output_type": "stream",
          "name": "stdout",
          "text": [
            "Ep 1 (Step 000000): Train loss 10.711, Val loss 10.712\n",
            "Ep 1 (Step 000010): Train loss 9.009, Val loss 9.053\n",
            "Ep 1 (Step 000020): Train loss 8.447, Val loss 8.469\n",
            "Ep 1 (Step 000030): Train loss 8.127, Val loss 8.020\n",
            "Ep 1 (Step 000040): Train loss 6.900, Val loss 7.566\n",
            "Ep 1 (Step 000050): Train loss 7.197, Val loss 7.143\n",
            "Ep 1 (Step 000060): Train loss 6.355, Val loss 6.815\n",
            "Ep 1 (Step 000070): Train loss 6.486, Val loss 6.569\n",
            "Ep 1 (Step 000080): Train loss 6.215, Val loss 6.386\n",
            "Every effort moves you, and                                                \n",
            "Ep 2 (Step 000090): Train loss 6.358, Val loss 6.235\n",
            "Ep 2 (Step 000100): Train loss 6.054, Val loss 6.124\n",
            "Ep 2 (Step 000110): Train loss 5.553, Val loss 6.034\n",
            "Ep 2 (Step 000120): Train loss 5.479, Val loss 5.963\n",
            "Ep 2 (Step 000130): Train loss 5.561, Val loss 5.900\n",
            "Ep 2 (Step 000140): Train loss 5.504, Val loss 5.836\n",
            "Ep 2 (Step 000150): Train loss 5.391, Val loss 5.783\n",
            "Ep 2 (Step 000160): Train loss 5.622, Val loss 5.740\n",
            "Ep 2 (Step 000170): Train loss 5.292, Val loss 5.704\n",
            "Every effort moves you.  ” ” “I, and “I.“I “I a “I, and ” ” “I, and ” �\n",
            "Ep 3 (Step 000180): Train loss 5.471, Val loss 5.671\n",
            "Ep 3 (Step 000190): Train loss 4.632, Val loss 5.632\n",
            "Ep 3 (Step 000200): Train loss 5.516, Val loss 5.600\n",
            "Ep 3 (Step 000210): Train loss 5.413, Val loss 5.572\n",
            "Ep 3 (Step 000220): Train loss 5.439, Val loss 5.531\n",
            "Ep 3 (Step 000230): Train loss 5.364, Val loss 5.506\n",
            "Ep 3 (Step 000240): Train loss 5.429, Val loss 5.484\n",
            "Ep 3 (Step 000250): Train loss 5.052, Val loss 5.453\n",
            "Every effort moves you  “I am not be “I am“I am not be “I have been “I am“I am sure,“I am.“I am“I am \n",
            "Ep 4 (Step 000260): Train loss 5.217, Val loss 5.421\n",
            "Ep 4 (Step 000270): Train loss 4.844, Val loss 5.402\n",
            "Ep 4 (Step 000280): Train loss 5.162, Val loss 5.384\n",
            "Ep 4 (Step 000290): Train loss 5.146, Val loss 5.364\n",
            "Ep 4 (Step 000300): Train loss 5.229, Val loss 5.346\n",
            "Ep 4 (Step 000310): Train loss 5.047, Val loss 5.321\n",
            "Ep 4 (Step 000320): Train loss 4.604, Val loss 5.301\n",
            "Ep 4 (Step 000330): Train loss 5.055, Val loss 5.284\n",
            "Ep 4 (Step 000340): Train loss 4.948, Val loss 5.271\n",
            "Every effort moves you ” “I am sure.“I am sure you have been ” “I am sure” “I am sure,“I am sure“I am sure” �\n",
            "Ep 5 (Step 000350): Train loss 4.965, Val loss 5.261\n",
            "Ep 5 (Step 000360): Train loss 4.922, Val loss 5.238\n",
            "Ep 5 (Step 000370): Train loss 5.013, Val loss 5.240\n",
            "Ep 5 (Step 000380): Train loss 4.900, Val loss 5.220\n",
            "Ep 5 (Step 000390): Train loss 4.654, Val loss 5.210\n",
            "Ep 5 (Step 000400): Train loss 4.923, Val loss 5.192\n",
            "Ep 5 (Step 000410): Train loss 5.031, Val loss 5.172\n",
            "Ep 5 (Step 000420): Train loss 4.945, Val loss 5.154\n",
            "Every effort moves you “I am not be so much.” “I am not be “I have been “I am not to be so much to be a ” ” “I am sure\n"
          ]
        }
      ]
    },
    {
      "cell_type": "code",
      "source": [
        "import matplotlib.pyplot as plt\n",
        "from matplotlib.ticker import MaxNLocator\n",
        "import torch\n",
        "\n",
        "def plot_losses(epochs_seen, tokens_seen, train_losses, val_losses):\n",
        "    fig, ax1 = plt.subplots(figsize=(5, 3))\n",
        "    ax1.plot(epochs_seen, train_losses, label=\"Training loss\")\n",
        "    ax1.plot(epochs_seen, val_losses, linestyle=\"-.\", label=\"Validation loss\")\n",
        "\n",
        "    ax1.set_xlabel(\"Epochs\")\n",
        "    ax1.set_ylabel(\"Loss\")\n",
        "    ax1.legend(loc=\"upper right\")\n",
        "    ax1.xaxis.set_major_locator(MaxNLocator(integer=True))\n",
        "\n",
        "    ax2 = ax1.twiny()\n",
        "    ax2.plot(tokens_seen, train_losses, alpha=0)\n",
        "    ax2.set_xlabel(\"Tokens seen\")\n",
        "\n",
        "    fig.tight_layout()\n",
        "    plt.show()\n",
        "\n",
        "\n",
        "epochs_tensor = torch.linspace(0, num_epochs, len(train_losses))\n",
        "plot_losses(epochs_tensor, tokens_seen, train_losses, val_losses)"
      ],
      "metadata": {
        "id": "ru5U0PaybKOf",
        "colab": {
          "base_uri": "https://localhost:8080/"
        },
        "outputId": "5bcefcd4-a555-45df-82b5-7155e785e357"
      },
      "execution_count": null,
      "outputs": [
        {
          "output_type": "display_data",
          "data": {
            "text/plain": [
              "<Figure size 500x300 with 2 Axes>"
            ],
            "image/png": "[encoded data removed]"
          },
          "metadata": {}
        }
      ]
    },
    {
      "cell_type": "code",
      "source": [
        "def user_input(context):\n",
        "  generate_and_print_sample(model, tokenizer, device, context)"
      ],
      "metadata": {
        "id": "MpbAVLhlQLA5"
      },
      "execution_count": null,
      "outputs": []
    },
    {
      "cell_type": "code",
      "source": [
        "context = input(\"please enter starting context: \")\n",
        "user_input(context)"
      ],
      "metadata": {
        "colab": {
          "base_uri": "https://localhost:8080/"
        },
        "id": "KfMkgLV2E6WQ",
        "outputId": "6fcbe058-9868-453b-feba-b528520b545b"
      },
      "execution_count": null,
      "outputs": [
        {
          "output_type": "stream",
          "name": "stdout",
          "text": [
            "please enter starting context: Hello I am Prakhar \n",
            "Hello I am Prakhar                                                   \n"
          ]
        }
      ]
    },
    {
      "cell_type": "code",
      "source": [
        "torch.save(model.state_dict(), \"model.pth\")"
      ],
      "metadata": {
        "id": "LbsrUSI0E9RO"
      },
      "execution_count": null,
      "outputs": []
    },
    {
      "cell_type": "code",
      "source": [
        "model = GPTModel(GPT_CONFIG_124M)\n",
        "device = torch.device(\"cuda\" if torch.cuda.is_available() else \"cpu\")\n",
        "model.load_state_dict(torch.load(\"model.pth\", map_location=device, weights_only=True))\n",
        "model.eval();"
      ],
      "metadata": {
        "id": "fzGyKRRFFEcJ"
      },
      "execution_count": null,
      "outputs": []
    },
    {
      "cell_type": "code",
      "source": [
        "torch.save({\n",
        "    \"model_state_dict\": model.state_dict(),\n",
        "    \"optimizer_state_dict\": optimizer.state_dict(),\n",
        "    },\n",
        "    \"model_and_optimizer.pth\"\n",
        ")"
      ],
      "metadata": {
        "id": "2hOjj3-vFHXk"
      },
      "execution_count": null,
      "outputs": []
    },
    {
      "cell_type": "code",
      "source": [
        "checkpoint = torch.load(\"model_and_optimizer.pth\", weights_only=True)\n",
        "\n",
        "model = GPTModel(GPT_CONFIG_124M)\n",
        "model.load_state_dict(checkpoint[\"model_state_dict\"])\n",
        "\n",
        "optimizer = torch.optim.AdamW(model.parameters(), lr=0.0005, weight_decay=0.1)\n",
        "optimizer.load_state_dict(checkpoint[\"optimizer_state_dict\"])\n",
        "model.train();"
      ],
      "metadata": {
        "id": "Fej1UpMOFJqy"
      },
      "execution_count": null,
      "outputs": []
    },
    {
      "cell_type": "code",
      "source": [],
      "metadata": {
        "id": "XU1c-XTZFY3W"
      },
      "execution_count": null,
      "outputs": []
    }
  ]
}